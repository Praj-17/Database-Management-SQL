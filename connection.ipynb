{
 "cells": [
  {
   "cell_type": "code",
   "execution_count": 85,
   "metadata": {},
   "outputs": [],
   "source": [
    "import pandas as pd\n",
    "from pandas.io import sql\n",
    "import pymysql \n"
   ]
  },
  {
   "cell_type": "code",
   "execution_count": 86,
   "metadata": {},
   "outputs": [],
   "source": [
    "def mysql_connect():    # Mysql connection function\n",
    "\n",
    "    global connection\n",
    "\n",
    "    # Mysql crdentials to connect the database\n",
    "    connection = pymysql.connect(                  \n",
    "        host=\"fe-mean.cp4lje53dvkz.ap-south-1.rds.amazonaws.com\",\n",
    "        user='prajwal.waykos',\n",
    "        password='M0ns00n!',\n",
    "        db='dev',\n",
    "    )\n",
    "\n",
    "def run_query(sql):\n",
    "\n",
    "    # sql: MySQL query\n",
    "    # pd: Pandas dataframe containing results\n",
    "    return pd.read_sql_query(sql, connection)\n",
    "def mysql_disconnect():\n",
    "    connection.close()"
   ]
  },
  {
   "cell_type": "code",
   "execution_count": 87,
   "metadata": {},
   "outputs": [
    {
     "name": "stdout",
     "output_type": "stream",
     "text": [
      "     Employee Code               Full Name  Tax Regime Financial Year  \\\n",
      "0          FET_101            Yash Chouhan        None           None   \n",
      "1          FET_105           Amitabh Yadav  Old regime        2022-23   \n",
      "2          FET_105           Amitabh Yadav  Old regime        2021-22   \n",
      "3             None                    None        None           None   \n",
      "4             None            Shivam Gupta        None           None   \n",
      "...            ...                     ...         ...            ...   \n",
      "2405    EMP2031_ML       Nikhil Test Kumar        None           None   \n",
      "2406    EMP2032_ML  Prajwal Pravin  Waykos        None           None   \n",
      "2407    EMP2004_FL                  Violet        None           None   \n",
      "2408    EMP2033_ML          Prithvi Pandey        None           None   \n",
      "2409       EMP2000                    test        None           None   \n",
      "\n",
      "     City Type From Month To Month Owner Owner PAN Address  Declared amount  \\\n",
      "0         None       None     None  None      None    None              NaN   \n",
      "1         None       None     None  None      None    None              NaN   \n",
      "2         None       None     None  None      None    None              NaN   \n",
      "3         None       None     None  None      None    None              NaN   \n",
      "4         None       None     None  None      None    None              NaN   \n",
      "...        ...        ...      ...   ...       ...     ...              ...   \n",
      "2405      None       None     None  None      None    None              NaN   \n",
      "2406      None       None     None  None      None    None              NaN   \n",
      "2407      None       None     None  None      None    None              NaN   \n",
      "2408      None       None     None  None      None    None              NaN   \n",
      "2409      None       None     None  None      None    None              NaN   \n",
      "\n",
      "      Actual Amount  Approved amount Rejection Comments  \n",
      "0               NaN              NaN               None  \n",
      "1               NaN              NaN               None  \n",
      "2               NaN              NaN               None  \n",
      "3               NaN              NaN               None  \n",
      "4               NaN              NaN               None  \n",
      "...             ...              ...                ...  \n",
      "2405            NaN              NaN               None  \n",
      "2406            NaN              NaN               None  \n",
      "2407            NaN              NaN               None  \n",
      "2408            NaN              NaN               None  \n",
      "2409            NaN              NaN               None  \n",
      "\n",
      "[2410 rows x 14 columns]\n",
      "(2410, 14)\n"
     ]
    }
   ],
   "source": [
    "mysql_connect()\n",
    "\n",
    "# query = input(\"Enter_query: \")\n",
    "with open('Flexiele\\Report 4.2.sql', 'r') as f:\n",
    "    query = f.read()\n",
    "df = run_query(query)\n",
    "print(df)\n",
    "print(df.shape)"
   ]
  },
  {
   "cell_type": "code",
   "execution_count": null,
   "metadata": {},
   "outputs": [],
   "source": []
  },
  {
   "cell_type": "code",
   "execution_count": 88,
   "metadata": {},
   "outputs": [
    {
     "data": {
      "text/plain": [
       "0       None\n",
       "1       None\n",
       "2       None\n",
       "3       None\n",
       "4       None\n",
       "        ... \n",
       "2405    None\n",
       "2406    None\n",
       "2407    None\n",
       "2408    None\n",
       "2409    None\n",
       "Name: Owner, Length: 2410, dtype: object"
      ]
     },
     "execution_count": 88,
     "metadata": {},
     "output_type": "execute_result"
    }
   ],
   "source": [
    "df['Owner']"
   ]
  },
  {
   "cell_type": "code",
   "execution_count": null,
   "metadata": {},
   "outputs": [],
   "source": []
  }
 ],
 "metadata": {
  "kernelspec": {
   "display_name": "Python 3.9.7 ('base')",
   "language": "python",
   "name": "python3"
  },
  "language_info": {
   "codemirror_mode": {
    "name": "ipython",
    "version": 3
   },
   "file_extension": ".py",
   "mimetype": "text/x-python",
   "name": "python",
   "nbconvert_exporter": "python",
   "pygments_lexer": "ipython3",
   "version": "3.9.7"
  },
  "orig_nbformat": 4,
  "vscode": {
   "interpreter": {
    "hash": "dd99128efe45cf7f632cb7a0355bba7c77cb113ed91636cb4dc08454e93f5b32"
   }
  }
 },
 "nbformat": 4,
 "nbformat_minor": 2
}
