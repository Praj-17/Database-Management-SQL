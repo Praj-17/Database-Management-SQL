{
 "cells": [
  {
   "cell_type": "code",
   "execution_count": 15,
   "metadata": {},
   "outputs": [],
   "source": [
    "import pandas as pd\n",
    "from pandas.io import sql\n",
    "import pymysql \n"
   ]
  },
  {
   "cell_type": "code",
   "execution_count": 16,
   "metadata": {},
   "outputs": [],
   "source": [
    "def mysql_connect():    # Mysql connection function\n",
    "\n",
    "    global connection\n",
    "\n",
    "    # Mysql crdentials to connect the database\n",
    "    connection = pymysql.connect(                  \n",
    "        host=\"fe-mean.cp4lje53dvkz.ap-south-1.rds.amazonaws.com\",\n",
    "        user='prajwal.waykos',\n",
    "        password='M0ns00n!',\n",
    "        db='dev',\n",
    "    )\n",
    "\n",
    "def run_query(sql):\n",
    "\n",
    "    # sql: MySQL query\n",
    "    # pd: Pandas dataframe containing results\n",
    "    return pd.read_sql_query(sql, connection)\n",
    "def mysql_disconnect():\n",
    "    connection.close()"
   ]
  },
  {
   "cell_type": "code",
   "execution_count": 17,
   "metadata": {},
   "outputs": [
    {
     "name": "stdout",
     "output_type": "stream",
     "text": [
      "     Employee Code               Full Name  Tax Regime Financial Year  \\\n",
      "0          FET_101            Yash Chouhan        None           None   \n",
      "1          FET_105           Amitabh Yadav  Old regime        2022-23   \n",
      "2          FET_105           Amitabh Yadav  Old regime        2021-22   \n",
      "3             None                    None        None           None   \n",
      "4             None            Shivam Gupta        None           None   \n",
      "...            ...                     ...         ...            ...   \n",
      "2405    EMP2031_ML       Nikhil Test Kumar        None           None   \n",
      "2406    EMP2032_ML  Prajwal Pravin  Waykos        None           None   \n",
      "2407    EMP2004_FL                  Violet        None           None   \n",
      "2408    EMP2033_ML          Prithvi Pandey        None           None   \n",
      "2409       EMP2000                    test        None           None   \n",
      "\n",
      "     Property Type Lender Name Lender Address Lender PAN Property Address  \\\n",
      "0             None        None           None       None             None   \n",
      "1             None        None           None       None             None   \n",
      "2             None        None           None       None             None   \n",
      "3             None        None           None       None             None   \n",
      "4             None        None           None       None             None   \n",
      "...            ...         ...            ...        ...              ...   \n",
      "2405          None        None           None       None             None   \n",
      "2406          None        None           None       None             None   \n",
      "2407          None        None           None       None             None   \n",
      "2408          None        None           None       None             None   \n",
      "2409          None        None           None       None             None   \n",
      "\n",
      "     Posession Date  ...  Interest Paid  Previous EMI  Annual Rent Amount  \\\n",
      "0              None  ...            NaN           NaN                 NaN   \n",
      "1              None  ...            NaN           NaN                 NaN   \n",
      "2              None  ...            NaN           NaN                 NaN   \n",
      "3              None  ...            NaN           NaN                 NaN   \n",
      "4              None  ...            NaN           NaN                 NaN   \n",
      "...             ...  ...            ...           ...                 ...   \n",
      "2405           None  ...            NaN           NaN                 NaN   \n",
      "2406           None  ...            NaN           NaN                 NaN   \n",
      "2407           None  ...            NaN           NaN                 NaN   \n",
      "2408           None  ...            NaN           NaN                 NaN   \n",
      "2409           None  ...            NaN           NaN                 NaN   \n",
      "\n",
      "      Property Tax  Net Rent Amount  Maintenance Cost  Actual Amount  \\\n",
      "0              NaN              NaN               NaN            NaN   \n",
      "1              NaN              NaN               NaN            NaN   \n",
      "2              NaN              NaN               NaN            NaN   \n",
      "3              NaN              NaN               NaN            NaN   \n",
      "4              NaN              NaN               NaN            NaN   \n",
      "...            ...              ...               ...            ...   \n",
      "2405           NaN              NaN               NaN            NaN   \n",
      "2406           NaN              NaN               NaN            NaN   \n",
      "2407           NaN              NaN               NaN            NaN   \n",
      "2408           NaN              NaN               NaN            NaN   \n",
      "2409           NaN              NaN               NaN            NaN   \n",
      "\n",
      "      Approved amount  Rejection Comments Status  \n",
      "0                 NaN                None   None  \n",
      "1                 NaN                None   None  \n",
      "2                 NaN                None   None  \n",
      "3                 NaN                None   None  \n",
      "4                 NaN                None   None  \n",
      "...               ...                 ...    ...  \n",
      "2405              NaN                None   None  \n",
      "2406              NaN                None   None  \n",
      "2407              NaN                None   None  \n",
      "2408              NaN                None   None  \n",
      "2409              NaN                None   None  \n",
      "\n",
      "[2410 rows x 21 columns]\n",
      "(2410, 21)\n"
     ]
    }
   ],
   "source": [
    "mysql_connect()\n",
    "\n",
    "# query = input(\"Enter_query: \")\n",
    "with open('Flexiele\\Report 4.3.sql', 'r') as f:\n",
    "    query = f.read()\n",
    "df = run_query(query)\n",
    "print(df)\n",
    "print(df.shape)"
   ]
  },
  {
   "cell_type": "code",
   "execution_count": null,
   "metadata": {},
   "outputs": [],
   "source": []
  },
  {
   "cell_type": "code",
   "execution_count": 18,
   "metadata": {},
   "outputs": [
    {
     "ename": "KeyError",
     "evalue": "'Owner'",
     "output_type": "error",
     "traceback": [
      "\u001b[1;31m---------------------------------------------------------------------------\u001b[0m",
      "\u001b[1;31mKeyError\u001b[0m                                  Traceback (most recent call last)",
      "\u001b[1;32mc:\\Users\\pwayk\\anaconda3\\lib\\site-packages\\pandas\\core\\indexes\\base.py\u001b[0m in \u001b[0;36mget_loc\u001b[1;34m(self, key, method, tolerance)\u001b[0m\n\u001b[0;32m   3360\u001b[0m             \u001b[1;32mtry\u001b[0m\u001b[1;33m:\u001b[0m\u001b[1;33m\u001b[0m\u001b[1;33m\u001b[0m\u001b[0m\n\u001b[1;32m-> 3361\u001b[1;33m                 \u001b[1;32mreturn\u001b[0m \u001b[0mself\u001b[0m\u001b[1;33m.\u001b[0m\u001b[0m_engine\u001b[0m\u001b[1;33m.\u001b[0m\u001b[0mget_loc\u001b[0m\u001b[1;33m(\u001b[0m\u001b[0mcasted_key\u001b[0m\u001b[1;33m)\u001b[0m\u001b[1;33m\u001b[0m\u001b[1;33m\u001b[0m\u001b[0m\n\u001b[0m\u001b[0;32m   3362\u001b[0m             \u001b[1;32mexcept\u001b[0m \u001b[0mKeyError\u001b[0m \u001b[1;32mas\u001b[0m \u001b[0merr\u001b[0m\u001b[1;33m:\u001b[0m\u001b[1;33m\u001b[0m\u001b[1;33m\u001b[0m\u001b[0m\n",
      "\u001b[1;32mc:\\Users\\pwayk\\anaconda3\\lib\\site-packages\\pandas\\_libs\\index.pyx\u001b[0m in \u001b[0;36mpandas._libs.index.IndexEngine.get_loc\u001b[1;34m()\u001b[0m\n",
      "\u001b[1;32mc:\\Users\\pwayk\\anaconda3\\lib\\site-packages\\pandas\\_libs\\index.pyx\u001b[0m in \u001b[0;36mpandas._libs.index.IndexEngine.get_loc\u001b[1;34m()\u001b[0m\n",
      "\u001b[1;32mpandas\\_libs\\hashtable_class_helper.pxi\u001b[0m in \u001b[0;36mpandas._libs.hashtable.PyObjectHashTable.get_item\u001b[1;34m()\u001b[0m\n",
      "\u001b[1;32mpandas\\_libs\\hashtable_class_helper.pxi\u001b[0m in \u001b[0;36mpandas._libs.hashtable.PyObjectHashTable.get_item\u001b[1;34m()\u001b[0m\n",
      "\u001b[1;31mKeyError\u001b[0m: 'Owner'",
      "\nThe above exception was the direct cause of the following exception:\n",
      "\u001b[1;31mKeyError\u001b[0m                                  Traceback (most recent call last)",
      "\u001b[1;32m~\\AppData\\Local\\Temp/ipykernel_19032/4138826225.py\u001b[0m in \u001b[0;36m<module>\u001b[1;34m\u001b[0m\n\u001b[1;32m----> 1\u001b[1;33m \u001b[0mdf\u001b[0m\u001b[1;33m[\u001b[0m\u001b[1;34m'Owner'\u001b[0m\u001b[1;33m]\u001b[0m\u001b[1;33m\u001b[0m\u001b[1;33m\u001b[0m\u001b[0m\n\u001b[0m",
      "\u001b[1;32mc:\\Users\\pwayk\\anaconda3\\lib\\site-packages\\pandas\\core\\frame.py\u001b[0m in \u001b[0;36m__getitem__\u001b[1;34m(self, key)\u001b[0m\n\u001b[0;32m   3456\u001b[0m             \u001b[1;32mif\u001b[0m \u001b[0mself\u001b[0m\u001b[1;33m.\u001b[0m\u001b[0mcolumns\u001b[0m\u001b[1;33m.\u001b[0m\u001b[0mnlevels\u001b[0m \u001b[1;33m>\u001b[0m \u001b[1;36m1\u001b[0m\u001b[1;33m:\u001b[0m\u001b[1;33m\u001b[0m\u001b[1;33m\u001b[0m\u001b[0m\n\u001b[0;32m   3457\u001b[0m                 \u001b[1;32mreturn\u001b[0m \u001b[0mself\u001b[0m\u001b[1;33m.\u001b[0m\u001b[0m_getitem_multilevel\u001b[0m\u001b[1;33m(\u001b[0m\u001b[0mkey\u001b[0m\u001b[1;33m)\u001b[0m\u001b[1;33m\u001b[0m\u001b[1;33m\u001b[0m\u001b[0m\n\u001b[1;32m-> 3458\u001b[1;33m             \u001b[0mindexer\u001b[0m \u001b[1;33m=\u001b[0m \u001b[0mself\u001b[0m\u001b[1;33m.\u001b[0m\u001b[0mcolumns\u001b[0m\u001b[1;33m.\u001b[0m\u001b[0mget_loc\u001b[0m\u001b[1;33m(\u001b[0m\u001b[0mkey\u001b[0m\u001b[1;33m)\u001b[0m\u001b[1;33m\u001b[0m\u001b[1;33m\u001b[0m\u001b[0m\n\u001b[0m\u001b[0;32m   3459\u001b[0m             \u001b[1;32mif\u001b[0m \u001b[0mis_integer\u001b[0m\u001b[1;33m(\u001b[0m\u001b[0mindexer\u001b[0m\u001b[1;33m)\u001b[0m\u001b[1;33m:\u001b[0m\u001b[1;33m\u001b[0m\u001b[1;33m\u001b[0m\u001b[0m\n\u001b[0;32m   3460\u001b[0m                 \u001b[0mindexer\u001b[0m \u001b[1;33m=\u001b[0m \u001b[1;33m[\u001b[0m\u001b[0mindexer\u001b[0m\u001b[1;33m]\u001b[0m\u001b[1;33m\u001b[0m\u001b[1;33m\u001b[0m\u001b[0m\n",
      "\u001b[1;32mc:\\Users\\pwayk\\anaconda3\\lib\\site-packages\\pandas\\core\\indexes\\base.py\u001b[0m in \u001b[0;36mget_loc\u001b[1;34m(self, key, method, tolerance)\u001b[0m\n\u001b[0;32m   3361\u001b[0m                 \u001b[1;32mreturn\u001b[0m \u001b[0mself\u001b[0m\u001b[1;33m.\u001b[0m\u001b[0m_engine\u001b[0m\u001b[1;33m.\u001b[0m\u001b[0mget_loc\u001b[0m\u001b[1;33m(\u001b[0m\u001b[0mcasted_key\u001b[0m\u001b[1;33m)\u001b[0m\u001b[1;33m\u001b[0m\u001b[1;33m\u001b[0m\u001b[0m\n\u001b[0;32m   3362\u001b[0m             \u001b[1;32mexcept\u001b[0m \u001b[0mKeyError\u001b[0m \u001b[1;32mas\u001b[0m \u001b[0merr\u001b[0m\u001b[1;33m:\u001b[0m\u001b[1;33m\u001b[0m\u001b[1;33m\u001b[0m\u001b[0m\n\u001b[1;32m-> 3363\u001b[1;33m                 \u001b[1;32mraise\u001b[0m \u001b[0mKeyError\u001b[0m\u001b[1;33m(\u001b[0m\u001b[0mkey\u001b[0m\u001b[1;33m)\u001b[0m \u001b[1;32mfrom\u001b[0m \u001b[0merr\u001b[0m\u001b[1;33m\u001b[0m\u001b[1;33m\u001b[0m\u001b[0m\n\u001b[0m\u001b[0;32m   3364\u001b[0m \u001b[1;33m\u001b[0m\u001b[0m\n\u001b[0;32m   3365\u001b[0m         \u001b[1;32mif\u001b[0m \u001b[0mis_scalar\u001b[0m\u001b[1;33m(\u001b[0m\u001b[0mkey\u001b[0m\u001b[1;33m)\u001b[0m \u001b[1;32mand\u001b[0m \u001b[0misna\u001b[0m\u001b[1;33m(\u001b[0m\u001b[0mkey\u001b[0m\u001b[1;33m)\u001b[0m \u001b[1;32mand\u001b[0m \u001b[1;32mnot\u001b[0m \u001b[0mself\u001b[0m\u001b[1;33m.\u001b[0m\u001b[0mhasnans\u001b[0m\u001b[1;33m:\u001b[0m\u001b[1;33m\u001b[0m\u001b[1;33m\u001b[0m\u001b[0m\n",
      "\u001b[1;31mKeyError\u001b[0m: 'Owner'"
     ]
    }
   ],
   "source": [
    "df['Owner']"
   ]
  },
  {
   "cell_type": "code",
   "execution_count": null,
   "metadata": {},
   "outputs": [],
   "source": []
  }
 ],
 "metadata": {
  "kernelspec": {
   "display_name": "Python 3.9.7 ('base')",
   "language": "python",
   "name": "python3"
  },
  "language_info": {
   "codemirror_mode": {
    "name": "ipython",
    "version": 3
   },
   "file_extension": ".py",
   "mimetype": "text/x-python",
   "name": "python",
   "nbconvert_exporter": "python",
   "pygments_lexer": "ipython3",
   "version": "3.9.7"
  },
  "orig_nbformat": 4,
  "vscode": {
   "interpreter": {
    "hash": "dd99128efe45cf7f632cb7a0355bba7c77cb113ed91636cb4dc08454e93f5b32"
   }
  }
 },
 "nbformat": 4,
 "nbformat_minor": 2
}
